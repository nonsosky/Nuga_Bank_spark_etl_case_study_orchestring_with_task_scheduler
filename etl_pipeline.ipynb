{
 "cells": [
  {
   "cell_type": "markdown",
   "metadata": {},
   "source": [
    "## Import necessary libraries"
   ]
  },
  {
   "cell_type": "code",
   "execution_count": 3,
   "metadata": {},
   "outputs": [],
   "source": [
    "from pyspark.sql import SparkSession\n",
    "from pyspark.sql import DataFrameWriter\n",
    "from pyspark.sql.functions import monotonically_increasing_id\n",
    "import os\n",
    "import psycopg2"
   ]
  },
  {
   "cell_type": "code",
   "execution_count": 4,
   "metadata": {},
   "outputs": [],
   "source": [
    "# set java home\n",
    "os.environ['JAVA_HOME'] = 'C:\\java8'"
   ]
  },
  {
   "cell_type": "code",
   "execution_count": 5,
   "metadata": {},
   "outputs": [],
   "source": [
    "# Initialise my Spark Session\n",
    "spark = SparkSession.builder \\\n",
    "        .appName(\"Nuga Bank ETL\") \\\n",
    "        .config(\"spark.jars\", \"postgresql-42.7.4.jar\") \\\n",
    "        .getOrCreate()"
   ]
  },
  {
   "cell_type": "code",
   "execution_count": 5,
   "metadata": {},
   "outputs": [
    {
     "data": {
      "text/html": [
       "\n",
       "            <div>\n",
       "                <p><b>SparkSession - in-memory</b></p>\n",
       "                \n",
       "        <div>\n",
       "            <p><b>SparkContext</b></p>\n",
       "\n",
       "            <p><a href=\"http://DESKTOP-8CCO0EP.mshome.net:4040\">Spark UI</a></p>\n",
       "\n",
       "            <dl>\n",
       "              <dt>Version</dt>\n",
       "                <dd><code>v3.5.3</code></dd>\n",
       "              <dt>Master</dt>\n",
       "                <dd><code>local[*]</code></dd>\n",
       "              <dt>AppName</dt>\n",
       "                <dd><code>Nuga Bank ETL</code></dd>\n",
       "            </dl>\n",
       "        </div>\n",
       "        \n",
       "            </div>\n",
       "        "
      ],
      "text/plain": [
       "<pyspark.sql.session.SparkSession at 0x1c49b486ee0>"
      ]
     },
     "execution_count": 5,
     "metadata": {},
     "output_type": "execute_result"
    }
   ],
   "source": [
    "spark"
   ]
  },
  {
   "cell_type": "code",
   "execution_count": 6,
   "metadata": {},
   "outputs": [],
   "source": [
    "# Extract this historical data into a spark dataframe\n",
    "df = spark.read.csv(r'dataset\\rawdata\\nuga_bank_transactions (1).csv', header=True, inferSchema=True)"
   ]
  },
  {
   "cell_type": "code",
   "execution_count": 7,
   "metadata": {},
   "outputs": [
    {
     "name": "stdout",
     "output_type": "stream",
     "text": [
      "+--------------------+------+----------------+--------------+--------------------+------------------+--------------+--------------------+--------------------+--------------------+--------------------+-------------------+------------------+--------------------+-------------+-------------+--------+-----+---------+--------------------+--------------------+------+--------------+\n",
      "|    Transaction_Date|Amount|Transaction_Type| Customer_Name|    Customer_Address|     Customer_City|Customer_State|    Customer_Country|             Company|           Job_Title|               Email|       Phone_Number|Credit_Card_Number|                IBAN|Currency_Code|Random_Number|Category|Group|Is_Active|        Last_Updated|         Description|Gender|Marital_Status|\n",
      "+--------------------+------+----------------+--------------+--------------------+------------------+--------------+--------------------+--------------------+--------------------+--------------------+-------------------+------------------+--------------------+-------------+-------------+--------+-----+---------+--------------------+--------------------+------+--------------+\n",
      "|2024-03-23 15:38:...| 34.76|      Withdrawal|    James Neal|54912 Holmes Lodg...| West Keithborough|       Florida|                Togo|Benson, Johnson a...|                NULL|                NULL|  493.720.6609x7545|  3592901394693441|GB98RBPP090285271...|          MAD|       3167.0|       C|    Z|       No|2020-06-20 03:04:...|Yeah food anythin...| Other|      Divorced|\n",
      "|2024-04-22 19:15:...|163.92|      Withdrawal|   Thomas Long| 1133 Collin Passage|        Joshuabury|   Connecticut|Lao People's Demo...|                NULL|   Food technologist|michellelynch@exa...|      (497)554-3317|              NULL|GB03KFZR339662263...|          VEF|       2122.0|       B|    Z|     NULL|2020-12-27 13:23:...|Teach edge make n...|Female|       Married|\n",
      "|2024-04-12 19:46:...|386.32|      Withdrawal|Ashley Shelton|5297 Johnson Port...|       North Maria|    New Jersey|              Bhutan|       Jones-Mueller|Database administ...| ljordan@example.org|      (534)769-3072|      675983949974|GB59QYRN446730519...|          COP|       7796.0|       C|    Z|       No|2020-01-24 01:23:...|Again line face c...| Other|          NULL|\n",
      "|2024-04-17 15:29:...|407.15|         Deposit| James Rosario|56955 Moore Glens...|North Michellefurt|    New Mexico|             Iceland|       Vargas-Harris|Horticultural the...|parkerjames@examp...|+1-447-900-1320x257|     4761202519057|GB74FTDO268299438...|          BWP|       6284.0|       C|    Z|      Yes|2023-09-27 03:01:...|     Bag my a drive.|  NULL|          NULL|\n",
      "|2024-02-10 01:51:...|161.31|         Deposit|Miguel Leonard|262 Beck Expressw...|              NULL| West Virginia|             Eritrea|Richardson, Gonza...|   Minerals surveyor| zweaver@example.net|               NULL|   213156729655186|GB94EWRN587847592...|          SOS|       9179.0|       C|    Y|       No|2022-01-22 19:08:...|Husband find ok w...|Female|       Married|\n",
      "+--------------------+------+----------------+--------------+--------------------+------------------+--------------+--------------------+--------------------+--------------------+--------------------+-------------------+------------------+--------------------+-------------+-------------+--------+-----+---------+--------------------+--------------------+------+--------------+\n",
      "only showing top 5 rows\n",
      "\n"
     ]
    },
    {
     "data": {
      "text/plain": [
       "None"
      ]
     },
     "metadata": {},
     "output_type": "display_data"
    }
   ],
   "source": [
    "display(df.show(5))"
   ]
  },
  {
   "cell_type": "code",
   "execution_count": 8,
   "metadata": {},
   "outputs": [
    {
     "name": "stdout",
     "output_type": "stream",
     "text": [
      "root\n",
      " |-- Transaction_Date: timestamp (nullable = true)\n",
      " |-- Amount: double (nullable = true)\n",
      " |-- Transaction_Type: string (nullable = true)\n",
      " |-- Customer_Name: string (nullable = true)\n",
      " |-- Customer_Address: string (nullable = true)\n",
      " |-- Customer_City: string (nullable = true)\n",
      " |-- Customer_State: string (nullable = true)\n",
      " |-- Customer_Country: string (nullable = true)\n",
      " |-- Company: string (nullable = true)\n",
      " |-- Job_Title: string (nullable = true)\n",
      " |-- Email: string (nullable = true)\n",
      " |-- Phone_Number: string (nullable = true)\n",
      " |-- Credit_Card_Number: long (nullable = true)\n",
      " |-- IBAN: string (nullable = true)\n",
      " |-- Currency_Code: string (nullable = true)\n",
      " |-- Random_Number: double (nullable = true)\n",
      " |-- Category: string (nullable = true)\n",
      " |-- Group: string (nullable = true)\n",
      " |-- Is_Active: string (nullable = true)\n",
      " |-- Last_Updated: timestamp (nullable = true)\n",
      " |-- Description: string (nullable = true)\n",
      " |-- Gender: string (nullable = true)\n",
      " |-- Marital_Status: string (nullable = true)\n",
      "\n"
     ]
    }
   ],
   "source": [
    "df.printSchema()"
   ]
  },
  {
   "cell_type": "code",
   "execution_count": 9,
   "metadata": {},
   "outputs": [
    {
     "name": "stdout",
     "output_type": "stream",
     "text": [
      "Transaction_Date Nulls:  0\n",
      "Amount Nulls:  0\n",
      "Transaction_Type Nulls:  0\n",
      "Customer_Name Nulls:  100425\n",
      "Customer_Address Nulls:  100087\n",
      "Customer_City Nulls:  100034\n",
      "Customer_State Nulls:  100009\n",
      "Customer_Country Nulls:  100672\n",
      "Company Nulls:  100295\n",
      "Job_Title Nulls:  99924\n",
      "Email Nulls:  100043\n",
      "Phone_Number Nulls:  100524\n",
      "Credit_Card_Number Nulls:  100085\n",
      "IBAN Nulls:  100300\n",
      "Currency_Code Nulls:  99342\n",
      "Random_Number Nulls:  99913\n",
      "Category Nulls:  100332\n",
      "Group Nulls:  100209\n",
      "Is_Active Nulls:  100259\n",
      "Last_Updated Nulls:  100321\n",
      "Description Nulls:  100403\n",
      "Gender Nulls:  99767\n",
      "Marital_Status Nulls:  99904\n"
     ]
    }
   ],
   "source": [
    "# Data cleaning and transformation\n",
    "for column in df.columns:\n",
    "    print(column, 'Nulls: ', df.filter(df[column].isNull()).count())"
   ]
  },
  {
   "cell_type": "code",
   "execution_count": 18,
   "metadata": {},
   "outputs": [
    {
     "name": "stdout",
     "output_type": "stream",
     "text": [
      "+-------+------------------+----------------+-------------+--------------------+-------------+--------------+----------------+-------------+------------------+-------------------+--------------------+--------------------+--------------------+-------------+------------------+--------+------+---------+--------------------+------+--------------+\n",
      "|summary|            Amount|Transaction_Type|Customer_Name|    Customer_Address|Customer_City|Customer_State|Customer_Country|      Company|         Job_Title|              Email|        Phone_Number|  Credit_Card_Number|                IBAN|Currency_Code|     Random_Number|Category| Group|Is_Active|         Description|Gender|Marital_Status|\n",
      "+-------+------------------+----------------+-------------+--------------------+-------------+--------------+----------------+-------------+------------------+-------------------+--------------------+--------------------+--------------------+-------------+------------------+--------+------+---------+--------------------+------+--------------+\n",
      "|  count|           1000000|         1000000|       899575|              899913|       899966|        899991|          899328|       899705|            900076|             899957|              899476|              899915|              899700|       900658|            900087|  899668|899791|   899741|              899597|900233|        900096|\n",
      "|   mean|504.97371121999953|            NULL|         NULL|                NULL|         NULL|          NULL|            NULL|         NULL|              NULL|               NULL|  6.00341888622502E9|3.785330130644817...|                NULL|         NULL| 5504.445295843624|    NULL|  NULL|     NULL|                NULL|  NULL|          NULL|\n",
      "| stddev| 285.7997202441231|            NULL|         NULL|                NULL|         NULL|          NULL|            NULL|         NULL|              NULL|               NULL|2.3071119812223907E9|1.247765855631420...|                NULL|         NULL|2598.1680843741146|    NULL|  NULL|     NULL|                NULL|  NULL|          NULL|\n",
      "|    min|              10.0|         Deposit| Aaron Abbott|000 Aaron Landing...|    Aaronberg|       Alabama|     Afghanistan| Abbott Group|Academic librarian|aabbott@example.com|       (200)201-4254|         60400015693|GB02AAAU191993009...|          AED|            1000.0|       A|     X|       No|A American and to...|Female|      Divorced|\n",
      "|    max|            1000.0|      Withdrawal|    Zoe Young|    99999 Mark Vista|  Zunigaville|       Wyoming|        Zimbabwe|Zuniga-Wilson|      Youth worker|zzuniga@example.org|          9999777682| 4999984361512569455|GB98ZZXM257326775...|          ZWD|            9999.0|       D|     Z|      Yes|Yourself young ev...| Other|        Single|\n",
      "+-------+------------------+----------------+-------------+--------------------+-------------+--------------+----------------+-------------+------------------+-------------------+--------------------+--------------------+--------------------+-------------+------------------+--------+------+---------+--------------------+------+--------------+\n",
      "\n"
     ]
    }
   ],
   "source": [
    "df.describe().show()"
   ]
  },
  {
   "cell_type": "code",
   "execution_count": 10,
   "metadata": {},
   "outputs": [],
   "source": [
    "df_clean = df.fillna({\n",
    "    'Customer_Name' : 'Unknown',\n",
    "    'Customer_Address' : 'Unknown',\n",
    "    'Customer_City' : 'Unknown',\n",
    "    'Customer_State' : 'Unknown',\n",
    "    'Customer_Country' : 'Unknown',\n",
    "    'Company' : 'Unknown',\n",
    "    'Job_Title' : 'Unknown',\n",
    "    'Email' : 'Unknown',\n",
    "    'Phone_Number' : 'Unknown',\n",
    "    'Credit_Card_Number' : 0,\n",
    "    'IBAN' : 'Unknown',\n",
    "    'Currency_Code' : 'Unknown',\n",
    "    'Random_Number' : 0.0,\n",
    "    'Category' : 'Unknown',\n",
    "    'Group' : 'Unknown',\n",
    "    'Is_Active' : 'Unknown',\n",
    "    'Description' : 'Unknown',\n",
    "    'Gender' : 'Unknown',\n",
    "    'Marital_Status' : 'Unknown'\n",
    "})"
   ]
  },
  {
   "cell_type": "code",
   "execution_count": 11,
   "metadata": {},
   "outputs": [],
   "source": [
    "# drop the missing values in the last_updated column\n",
    "df_clean = df_clean.na.drop(subset=['Last_Updated'])"
   ]
  },
  {
   "cell_type": "code",
   "execution_count": 12,
   "metadata": {},
   "outputs": [
    {
     "name": "stdout",
     "output_type": "stream",
     "text": [
      "Transaction_Date Nulls:  0\n",
      "Amount Nulls:  0\n",
      "Transaction_Type Nulls:  0\n",
      "Customer_Name Nulls:  0\n",
      "Customer_Address Nulls:  0\n",
      "Customer_City Nulls:  0\n",
      "Customer_State Nulls:  0\n",
      "Customer_Country Nulls:  0\n",
      "Company Nulls:  0\n",
      "Job_Title Nulls:  0\n",
      "Email Nulls:  0\n",
      "Phone_Number Nulls:  0\n",
      "Credit_Card_Number Nulls:  0\n",
      "IBAN Nulls:  0\n",
      "Currency_Code Nulls:  0\n",
      "Random_Number Nulls:  0\n",
      "Category Nulls:  0\n",
      "Group Nulls:  0\n",
      "Is_Active Nulls:  0\n",
      "Last_Updated Nulls:  0\n",
      "Description Nulls:  0\n",
      "Gender Nulls:  0\n",
      "Marital_Status Nulls:  0\n"
     ]
    }
   ],
   "source": [
    "# Data cleaning and transformation\n",
    "for column in df_clean.columns:\n",
    "    print(column, 'Nulls: ', df_clean.filter(df_clean[column].isNull()).count())"
   ]
  },
  {
   "cell_type": "code",
   "execution_count": 15,
   "metadata": {},
   "outputs": [
    {
     "data": {
      "text/plain": [
       "['Transaction_Date',\n",
       " 'Amount',\n",
       " 'Transaction_Type',\n",
       " 'Customer_Name',\n",
       " 'Customer_Address',\n",
       " 'Customer_City',\n",
       " 'Customer_State',\n",
       " 'Customer_Country',\n",
       " 'Company',\n",
       " 'Job_Title',\n",
       " 'Email',\n",
       " 'Phone_Number',\n",
       " 'Credit_Card_Number',\n",
       " 'IBAN',\n",
       " 'Currency_Code',\n",
       " 'Random_Number',\n",
       " 'Category',\n",
       " 'Group',\n",
       " 'Is_Active',\n",
       " 'Last_Updated',\n",
       " 'Description',\n",
       " 'Gender',\n",
       " 'Marital_Status']"
      ]
     },
     "execution_count": 15,
     "metadata": {},
     "output_type": "execute_result"
    }
   ],
   "source": [
    "df_clean.columns"
   ]
  },
  {
   "cell_type": "code",
   "execution_count": 16,
   "metadata": {},
   "outputs": [],
   "source": [
    "# Data Transformation to 2NF\n",
    "#transaction table\n",
    "transaction = df_clean.select('Transaction_Date', 'Amount', 'Transaction_Type') \\\n",
    "                    .withColumn('transaction_id', monotonically_increasing_id()) \\\n",
    "                    .select('transaction_id','Transaction_Date', 'Amount', 'Transaction_Type')"
   ]
  },
  {
   "cell_type": "code",
   "execution_count": 17,
   "metadata": {},
   "outputs": [
    {
     "name": "stdout",
     "output_type": "stream",
     "text": [
      "+--------------+--------------------+------+----------------+\n",
      "|transaction_id|    Transaction_Date|Amount|Transaction_Type|\n",
      "+--------------+--------------------+------+----------------+\n",
      "|             0|2024-03-23 15:38:...| 34.76|      Withdrawal|\n",
      "|             1|2024-04-22 19:15:...|163.92|      Withdrawal|\n",
      "|             2|2024-04-12 19:46:...|386.32|      Withdrawal|\n",
      "|             3|2024-04-17 15:29:...|407.15|         Deposit|\n",
      "|             4|2024-02-10 01:51:...|161.31|         Deposit|\n",
      "+--------------+--------------------+------+----------------+\n",
      "only showing top 5 rows\n",
      "\n"
     ]
    }
   ],
   "source": [
    "transaction.show(5)"
   ]
  },
  {
   "cell_type": "code",
   "execution_count": 18,
   "metadata": {},
   "outputs": [],
   "source": [
    "# Cutsomer Table\n",
    "customer = df_clean.select('Customer_Name', 'Customer_Address', 'Customer_City', 'Customer_State', 'Customer_Country') \\\n",
    "                .withColumn('customer_id', monotonically_increasing_id()) \\\n",
    "                .select('customer_id', 'Customer_Name', 'Customer_Address', 'Customer_City', 'Customer_State', 'Customer_Country')"
   ]
  },
  {
   "cell_type": "code",
   "execution_count": 19,
   "metadata": {},
   "outputs": [
    {
     "name": "stdout",
     "output_type": "stream",
     "text": [
      "+-----------+--------------+--------------------+------------------+--------------+--------------------+\n",
      "|customer_id| Customer_Name|    Customer_Address|     Customer_City|Customer_State|    Customer_Country|\n",
      "+-----------+--------------+--------------------+------------------+--------------+--------------------+\n",
      "|          0|    James Neal|54912 Holmes Lodg...| West Keithborough|       Florida|                Togo|\n",
      "|          1|   Thomas Long| 1133 Collin Passage|        Joshuabury|   Connecticut|Lao People's Demo...|\n",
      "|          2|Ashley Shelton|5297 Johnson Port...|       North Maria|    New Jersey|              Bhutan|\n",
      "|          3| James Rosario|56955 Moore Glens...|North Michellefurt|    New Mexico|             Iceland|\n",
      "|          4|Miguel Leonard|262 Beck Expressw...|           Unknown| West Virginia|             Eritrea|\n",
      "+-----------+--------------+--------------------+------------------+--------------+--------------------+\n",
      "only showing top 5 rows\n",
      "\n"
     ]
    }
   ],
   "source": [
    "customer.show(5)"
   ]
  },
  {
   "cell_type": "code",
   "execution_count": 20,
   "metadata": {},
   "outputs": [],
   "source": [
    "employee = df_clean.select('Company','Job_Title','Email','Phone_Number', 'Gender', 'Marital_Status') \\\n",
    "                .withColumn('employee_id', monotonically_increasing_id()) \\\n",
    "                .select('employee_id','Company','Job_Title','Email','Phone_Number', 'Gender', 'Marital_Status')"
   ]
  },
  {
   "cell_type": "code",
   "execution_count": 21,
   "metadata": {},
   "outputs": [
    {
     "name": "stdout",
     "output_type": "stream",
     "text": [
      "+-----------+--------------------+--------------------+--------------------+-------------------+-------+--------------+\n",
      "|employee_id|             Company|           Job_Title|               Email|       Phone_Number| Gender|Marital_Status|\n",
      "+-----------+--------------------+--------------------+--------------------+-------------------+-------+--------------+\n",
      "|          0|Benson, Johnson a...|             Unknown|             Unknown|  493.720.6609x7545|  Other|      Divorced|\n",
      "|          1|             Unknown|   Food technologist|michellelynch@exa...|      (497)554-3317| Female|       Married|\n",
      "|          2|       Jones-Mueller|Database administ...| ljordan@example.org|      (534)769-3072|  Other|       Unknown|\n",
      "|          3|       Vargas-Harris|Horticultural the...|parkerjames@examp...|+1-447-900-1320x257|Unknown|       Unknown|\n",
      "|          4|Richardson, Gonza...|   Minerals surveyor| zweaver@example.net|            Unknown| Female|       Married|\n",
      "+-----------+--------------------+--------------------+--------------------+-------------------+-------+--------------+\n",
      "only showing top 5 rows\n",
      "\n"
     ]
    }
   ],
   "source": [
    "employee.show(5)"
   ]
  },
  {
   "cell_type": "code",
   "execution_count": 23,
   "metadata": {},
   "outputs": [],
   "source": [
    "# Nuga Bank Fact Table\n",
    "fact_table = df_clean.join(transaction, ['Transaction_Date', 'Amount', 'Transaction_Type'], 'inner') \\\n",
    "                                .join(customer, ['Customer_Name', 'Customer_Address', 'Customer_City', 'Customer_State', 'Customer_Country'], 'inner') \\\n",
    "                                .join(employee, ['Company','Job_Title','Email','Phone_Number', 'Gender', 'Marital_Status'], 'inner') \\\n",
    "                                .select('customer_id','transaction_id','employee_id','IBAN','Currency_Code','Random_Number','Category','Group','Is_Active','Last_Updated','Description')"
   ]
  },
  {
   "cell_type": "code",
   "execution_count": 24,
   "metadata": {},
   "outputs": [
    {
     "name": "stdout",
     "output_type": "stream",
     "text": [
      "+-----------+--------------+-----------+--------------------+-------------+-------------+--------+-------+---------+--------------------+--------------------+\n",
      "|customer_id|transaction_id|employee_id|                IBAN|Currency_Code|Random_Number|Category|  Group|Is_Active|        Last_Updated|         Description|\n",
      "+-----------+--------------+-----------+--------------------+-------------+-------------+--------+-------+---------+--------------------+--------------------+\n",
      "|17179987341|   17179987341|17179987341|GB82ZFSS908131813...|          PAB|       6515.0|       B|Unknown|      Yes|2021-12-12 16:34:...|Without shake mom...|\n",
      "| 8589986604|    8589986604| 8589986604|GB78CKOS832138470...|          GNF|       7475.0|       B|      Z|      Yes|2022-02-06 23:35:...|Health sure story...|\n",
      "|      29992|         29992|      29992|GB50ZGVC717046003...|          TRY|       9153.0|       D|      Z|       No|2021-11-26 08:47:...|Wait represent ge...|\n",
      "| 8590085798|    8590085798| 8590085798|GB97NDWP370396356...|          BSD|       6117.0| Unknown|      X|      Yes|2023-02-14 08:41:...|Onto give past no...|\n",
      "|25770002257|   25770002257|25770002257|GB11VVRM027865406...|      Unknown|       6669.0|       C|      X|       No|2022-04-13 17:22:...|Teach military ev...|\n",
      "+-----------+--------------+-----------+--------------------+-------------+-------------+--------+-------+---------+--------------------+--------------------+\n",
      "only showing top 5 rows\n",
      "\n"
     ]
    }
   ],
   "source": [
    "fact_table.show(5)"
   ]
  },
  {
   "cell_type": "code",
   "execution_count": 34,
   "metadata": {},
   "outputs": [],
   "source": [
    "# Data loading\n",
    "def get_db_connection():\n",
    "    connection = psycopg2.connect(\n",
    "        host = 'localhost',\n",
    "        database = 'nuga_banks',\n",
    "        user = 'postgres',\n",
    "        password = 'Nonsosky@1'\n",
    "    )\n",
    "    return connection\n",
    "\n",
    "# connect to database\n",
    "conn = get_db_connection()"
   ]
  },
  {
   "cell_type": "code",
   "execution_count": 38,
   "metadata": {},
   "outputs": [],
   "source": [
    "# Create a function create tables\n",
    "def create_table():\n",
    "    conn = get_db_connection()\n",
    "    cursor = conn.cursor()\n",
    "    create_table_query = '''\n",
    "                        DROP TABLE IF EXISTS customer;\n",
    "                        DROP TABLE IF EXISTS transaction;\n",
    "                        DROP TABLE IF EXISTS employee;\n",
    "                        DROP TABLE IF EXISTS fact_table;\n",
    "\n",
    "\n",
    "                        CREATE TABLE IF NOT EXISTS customer(\n",
    "                            customer_id BIGINT,\n",
    "                            Customer_Name VARCHAR(10000),\n",
    "                            Customer_Address VARCHAR(10000),\n",
    "                            Customer_City VARCHAR(10000),\n",
    "                            Customer_State VARCHAR(10000),\n",
    "                            Customer_Country VARCHAR(10000)\n",
    "                        );\n",
    "\n",
    "                        CREATE TABLE IF NOT EXISTS transaction(\n",
    "                            transaction_id BIGINT,\n",
    "                            Transaction_Date DATE,\n",
    "                            Amount FLOAT,\n",
    "                            Transaction_Type VARCHAR(1000)\n",
    "                        );\n",
    "\n",
    "                        CREATE TABLE IF NOT EXISTS employee(\n",
    "                            employee_id BIGINT,\n",
    "                            Company VARCHAR(10000),\n",
    "                            Job_Title VARCHAR(10000),\n",
    "                            Email VARCHAR(10000),\n",
    "                            Phone_Number VARCHAR(10000),\n",
    "                            Gender VARCHAR(100),\n",
    "                            Marital_Status VARCHAR(1000)\n",
    "                        );\n",
    "\n",
    "                        CREATE TABLE IF NOT EXISTS fact_table(\n",
    "                            customer_id BIGINT,\n",
    "                            transaction_id BIGINT,\n",
    "                            employee_id BIGINT,\n",
    "                            IBAN VARCHAR(10000),\n",
    "                            Currency_Code VARCHAR(10000),\n",
    "                            Random_Number FLOAT,\n",
    "                            Category VARCHAR(10000),\n",
    "                            \"Group\" VARCHAR(10000),\n",
    "                            Is_Active VARCHAR(1000),\n",
    "                            Last_Updated DATE,\n",
    "                            Description VARCHAR(1000)\n",
    "                        );\n",
    "\n",
    "                        '''\n",
    "    cursor.execute(create_table_query)\n",
    "    conn.commit()\n",
    "    cursor.close()\n",
    "    conn.close()\n"
   ]
  },
  {
   "cell_type": "code",
   "execution_count": 39,
   "metadata": {},
   "outputs": [],
   "source": [
    "create_table()"
   ]
  },
  {
   "cell_type": "code",
   "execution_count": 44,
   "metadata": {},
   "outputs": [],
   "source": [
    "url = \"jdbc:postgresql://localhost:5432/nuga_banks\"\n",
    "properties = {\n",
    "    \"user\" : \"postgres\",\n",
    "    \"password\" : \"Nonsosky@1\",\n",
    "    \"driver\" : \"org.postgresql.Driver\"\n",
    "}\n",
    "\n",
    "customer.write.jdbc(url=url, table=\"customer\",  mode=\"append\", properties=properties)\n",
    "employee.write.jdbc(url=url, table=\"employee\",  mode=\"append\", properties=properties)\n",
    "transaction.write.jdbc(url=url, table=\"transaction\",  mode=\"append\", properties=properties)\n",
    "fact_table.write.jdbc(url=url, table=\"fact_table\",  mode=\"append\", properties=properties)"
   ]
  },
  {
   "cell_type": "code",
   "execution_count": null,
   "metadata": {},
   "outputs": [],
   "source": []
  },
  {
   "cell_type": "code",
   "execution_count": 30,
   "metadata": {},
   "outputs": [
    {
     "name": "stdout",
     "output_type": "stream",
     "text": [
      "root\n",
      " |-- customer_id: long (nullable = false)\n",
      " |-- transaction_id: long (nullable = false)\n",
      " |-- employee_id: long (nullable = false)\n",
      " |-- IBAN: string (nullable = false)\n",
      " |-- Currency_Code: string (nullable = false)\n",
      " |-- Random_Number: double (nullable = false)\n",
      " |-- Category: string (nullable = false)\n",
      " |-- Group: string (nullable = false)\n",
      " |-- Is_Active: string (nullable = false)\n",
      " |-- Last_Updated: timestamp (nullable = true)\n",
      " |-- Description: string (nullable = false)\n",
      "\n"
     ]
    }
   ],
   "source": [
    "fact_table.printSchema()"
   ]
  }
 ],
 "metadata": {
  "kernelspec": {
   "display_name": "nugabankenv",
   "language": "python",
   "name": "python3"
  },
  "language_info": {
   "codemirror_mode": {
    "name": "ipython",
    "version": 3
   },
   "file_extension": ".py",
   "mimetype": "text/x-python",
   "name": "python",
   "nbconvert_exporter": "python",
   "pygments_lexer": "ipython3",
   "version": "3.9.20"
  }
 },
 "nbformat": 4,
 "nbformat_minor": 2
}
